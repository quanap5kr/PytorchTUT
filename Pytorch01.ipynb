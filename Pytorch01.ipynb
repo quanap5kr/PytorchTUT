{
 "cells": [
  {
   "cell_type": "code",
   "execution_count": 1,
   "metadata": {},
   "outputs": [
    {
     "name": "stderr",
     "output_type": "stream",
     "text": [
      "Python 3.6.10 :: Anaconda, Inc.\n"
     ]
    }
   ],
   "source": [
    "!python --version"
   ]
  },
  {
   "cell_type": "code",
   "execution_count": 5,
   "metadata": {},
   "outputs": [
    {
     "name": "stdout",
     "output_type": "stream",
     "text": [
      "pip 20.0.2 from D:\\Anaconda3\\envs\\quanap5\\lib\\site-packages\\pip (python 3.6)\n",
      "\n"
     ]
    }
   ],
   "source": [
    "!pip --version"
   ]
  },
  {
   "cell_type": "code",
   "execution_count": 9,
   "metadata": {
    "scrolled": false
   },
   "outputs": [
    {
     "name": "stdout",
     "output_type": "stream",
     "text": [
      "Package                       Version            \n",
      "----------------------------- -------------------\n",
      "-pencv-python                 4.2.0.34           \n",
      "absl-py                       0.9.0              \n",
      "alabaster                     0.7.12             \n",
      "argh                          0.26.2             \n",
      "astor                         0.8.1              \n",
      "astroid                       2.4.0              \n",
      "atomicwrites                  1.4.0              \n",
      "attrs                         19.3.0             \n",
      "autopep8                      1.4.4              \n",
      "awscli                        1.18.46            \n",
      "Babel                         2.8.0              \n",
      "backcall                      0.1.0              \n",
      "bcrypt                        3.1.7              \n",
      "bleach                        3.1.4              \n",
      "botocore                      1.15.46            \n",
      "cachetools                    4.1.0              \n",
      "certifi                       2020.4.5.2         \n",
      "cffi                          1.14.0             \n",
      "chardet                       3.0.4              \n",
      "cloudpickle                   1.4.1              \n",
      "colorama                      0.4.3              \n",
      "cryptography                  2.9.2              \n",
      "cycler                        0.10.0             \n",
      "decorator                     4.4.2              \n",
      "defusedxml                    0.6.0              \n",
      "diff-match-patch              20181111           \n",
      "docutils                      0.16               \n",
      "entrypoints                   0.3                \n",
      "flake8                        3.7.9              \n",
      "future                        0.18.2             \n",
      "gast                          0.3.3              \n",
      "google-auth                   1.14.0             \n",
      "google-pasta                  0.2.0              \n",
      "grpcio                        1.28.1             \n",
      "h5py                          2.10.0             \n",
      "idna                          2.9                \n",
      "imagesize                     1.2.0              \n",
      "importlib-metadata            1.5.0              \n",
      "intervaltree                  3.0.2              \n",
      "ipykernel                     5.1.4              \n",
      "ipython                       7.13.0             \n",
      "ipython-genutils              0.2.0              \n",
      "isort                         4.3.21             \n",
      "jedi                          0.15.2             \n",
      "Jinja2                        2.11.2             \n",
      "jmespath                      0.9.5              \n",
      "joblib                        0.14.1             \n",
      "jsonschema                    3.2.0              \n",
      "jupyter-client                6.1.3              \n",
      "jupyter-core                  4.6.3              \n",
      "Keras                         2.3.1              \n",
      "Keras-Applications            1.0.8              \n",
      "Keras-Preprocessing           1.1.0              \n",
      "keyring                       21.1.1             \n",
      "kiwisolver                    1.2.0              \n",
      "lazy-object-proxy             1.4.3              \n",
      "lxml                          4.5.0              \n",
      "Markdown                      3.2.1              \n",
      "MarkupSafe                    1.1.1              \n",
      "matplotlib                    3.1.3              \n",
      "mccabe                        0.6.1              \n",
      "mistune                       0.8.4              \n",
      "mkl-fft                       1.0.15             \n",
      "mkl-random                    1.1.0              \n",
      "mkl-service                   2.3.0              \n",
      "mpl-finance                   0.10.1             \n",
      "mplfinance                    0.12.4a0           \n",
      "nbconvert                     5.6.1              \n",
      "nbformat                      5.0.6              \n",
      "notebook                      6.0.3              \n",
      "numpy                         1.18.1             \n",
      "numpydoc                      0.9.2              \n",
      "olefile                       0.46               \n",
      "opencv-python                 4.2.0.34           \n",
      "opencv-python-headless        4.2.0.34           \n",
      "opt-einsum                    3.2.1              \n",
      "packaging                     20.3               \n",
      "pandas                        1.0.3              \n",
      "pandocfilters                 1.4.2              \n",
      "paramiko                      2.7.1              \n",
      "parso                         0.5.2              \n",
      "pathtools                     0.1.2              \n",
      "pexpect                       4.8.0              \n",
      "pickleshare                   0.7.5              \n",
      "Pillow                        7.1.2              \n",
      "pip                           20.0.2             \n",
      "pluggy                        0.13.1             \n",
      "prometheus-client             0.8.0              \n",
      "prompt-toolkit                3.0.4              \n",
      "protobuf                      3.11.4             \n",
      "psutil                        5.7.0              \n",
      "pyasn1                        0.4.8              \n",
      "pyasn1-modules                0.2.8              \n",
      "pycodestyle                   2.5.0              \n",
      "pycparser                     2.20               \n",
      "pydocstyle                    4.0.1              \n",
      "pyflakes                      2.1.1              \n",
      "Pygments                      2.6.1              \n",
      "pylint                        2.5.0              \n",
      "PyNaCl                        1.3.0              \n",
      "pyOpenSSL                     19.1.0             \n",
      "pyparsing                     2.4.7              \n",
      "pyreadline                    2.1                \n",
      "pyrsistent                    0.16.0             \n",
      "PySocks                       1.7.1              \n",
      "python-dateutil               2.8.1              \n",
      "python-jsonrpc-server         0.3.4              \n",
      "python-language-server        0.31.10            \n",
      "pytz                          2020.1             \n",
      "pywin32                       227                \n",
      "pywin32-ctypes                0.2.0              \n",
      "pywinpty                      0.5.7              \n",
      "PyYAML                        5.3.1              \n",
      "pyzmq                         18.1.1             \n",
      "QDarkStyle                    2.8.1              \n",
      "QtAwesome                     0.7.0              \n",
      "qtconsole                     4.7.3              \n",
      "QtPy                          1.9.0              \n",
      "requests                      2.23.0             \n",
      "rope                          0.17.0             \n",
      "rsa                           3.4.2              \n",
      "Rtree                         0.9.4              \n",
      "s3transfer                    0.3.3              \n",
      "scikit-learn                  0.22.2.post1       \n",
      "scipy                         1.4.1              \n",
      "Send2Trash                    1.5.0              \n",
      "setuptools                    46.2.0.post20200511\n",
      "shap                          0.35.0             \n",
      "six                           1.14.0             \n",
      "sklearn                       0.0                \n",
      "snowballstemmer               2.0.0              \n",
      "sortedcontainers              2.1.0              \n",
      "Sphinx                        3.0.3              \n",
      "sphinxcontrib-applehelp       1.0.2              \n",
      "sphinxcontrib-devhelp         1.0.2              \n",
      "sphinxcontrib-htmlhelp        1.0.3              \n",
      "sphinxcontrib-jsmath          1.0.1              \n",
      "sphinxcontrib-qthelp          1.0.3              \n",
      "sphinxcontrib-serializinghtml 1.1.4              \n",
      "spyder                        4.1.2              \n",
      "spyder-kernels                1.9.1              \n",
      "tensorboard                   2.1.1              \n",
      "tensorboard-plugin-wit        1.6.0.post3        \n",
      "tensorflow                    2.1.0              \n",
      "tensorflow-estimator          1.14.0             \n",
      "termcolor                     1.1.0              \n",
      "terminado                     0.8.3              \n",
      "terminaltables                3.1.0              \n",
      "testpath                      0.4.4              \n",
      "toml                          0.10.0             \n",
      "torch                         1.4.0              \n",
      "torchvision                   0.5.0              \n",
      "tornado                       6.0.4              \n",
      "tqdm                          4.45.0             \n",
      "traitlets                     4.3.3              \n",
      "typed-ast                     1.4.1              \n",
      "ujson                         1.35               \n",
      "urllib3                       1.25.8             \n",
      "watchdog                      0.10.2             \n",
      "wcwidth                       0.1.9              \n",
      "webencodings                  0.5.1              \n",
      "Werkzeug                      1.0.1              \n",
      "wget                          3.2                \n",
      "wheel                         0.34.2             \n",
      "win-inet-pton                 1.1.0              \n",
      "wincertstore                  0.2                \n",
      "wrapt                         1.11.2             \n",
      "xlrd                          1.2.0              \n",
      "yapf                          0.28.0             \n",
      "zipp                          3.1.0              \n"
     ]
    }
   ],
   "source": [
    "!pip list"
   ]
  },
  {
   "cell_type": "code",
   "execution_count": 12,
   "metadata": {},
   "outputs": [],
   "source": [
    "import torch"
   ]
  },
  {
   "cell_type": "code",
   "execution_count": 15,
   "metadata": {},
   "outputs": [
    {
     "data": {
      "text/plain": [
       "tensor([[0.6835, 0.9408, 0.1411],\n",
       "        [0.3489, 0.3388, 0.3836],\n",
       "        [0.2416, 0.6776, 0.5406],\n",
       "        [0.2923, 0.9687, 0.3793],\n",
       "        [0.8539, 0.3131, 0.2004]])"
      ]
     },
     "execution_count": 15,
     "metadata": {},
     "output_type": "execute_result"
    }
   ],
   "source": [
    "x = torch.empty(5,3)\n",
    "x = torch.rand(5,3)\n",
    "x"
   ]
  },
  {
   "cell_type": "code",
   "execution_count": 18,
   "metadata": {},
   "outputs": [
    {
     "data": {
      "text/plain": [
       "tensor([[0, 0, 0],\n",
       "        [0, 0, 0],\n",
       "        [0, 0, 0],\n",
       "        [0, 0, 0],\n",
       "        [0, 0, 0]])"
      ]
     },
     "execution_count": 18,
     "metadata": {},
     "output_type": "execute_result"
    }
   ],
   "source": [
    "x = torch.zeros(5,3, dtype=torch.long)\n",
    "x"
   ]
  },
  {
   "cell_type": "code",
   "execution_count": 21,
   "metadata": {},
   "outputs": [
    {
     "data": {
      "text/plain": [
       "tensor([[1.0286e-38, 1.0653e-38, 1.0194e-38],\n",
       "        [8.4490e-39, 1.0469e-38, 9.3674e-39],\n",
       "        [9.9184e-39, 8.7245e-39, 9.2755e-39],\n",
       "        [8.9082e-39, 9.9184e-39, 8.4490e-39],\n",
       "        [9.6429e-39, 1.0653e-38, 1.0469e-38]])"
      ]
     },
     "execution_count": 21,
     "metadata": {},
     "output_type": "execute_result"
    }
   ],
   "source": [
    "x = torch.Tensor(5,3)\n",
    "x"
   ]
  },
  {
   "cell_type": "code",
   "execution_count": 23,
   "metadata": {},
   "outputs": [
    {
     "data": {
      "text/plain": [
       "tensor([[1., 1., 1.],\n",
       "        [1., 1., 1.],\n",
       "        [1., 1., 1.],\n",
       "        [1., 1., 1.],\n",
       "        [1., 1., 1.]])"
      ]
     },
     "execution_count": 23,
     "metadata": {},
     "output_type": "execute_result"
    }
   ],
   "source": [
    "x = torch.ones(5,3)\n",
    "x"
   ]
  },
  {
   "cell_type": "code",
   "execution_count": 25,
   "metadata": {},
   "outputs": [
    {
     "data": {
      "text/plain": [
       "tensor([[ 0.3055,  0.0667,  0.0845],\n",
       "        [ 1.5148,  0.0148, -0.4818],\n",
       "        [ 0.0348,  1.1182, -0.2899],\n",
       "        [ 0.3156,  1.6057,  0.1547],\n",
       "        [ 0.6959,  0.8244, -0.2427]], dtype=torch.float64)"
      ]
     },
     "execution_count": 25,
     "metadata": {},
     "output_type": "execute_result"
    }
   ],
   "source": [
    "y = torch.randn_like(x, dtype=torch.double)\n",
    "y"
   ]
  },
  {
   "cell_type": "code",
   "execution_count": 28,
   "metadata": {},
   "outputs": [
    {
     "data": {
      "text/plain": [
       "torch.Size([5, 3])"
      ]
     },
     "execution_count": 28,
     "metadata": {},
     "output_type": "execute_result"
    }
   ],
   "source": [
    "#y.shape\n",
    "y.size()"
   ]
  },
  {
   "cell_type": "code",
   "execution_count": 31,
   "metadata": {},
   "outputs": [
    {
     "data": {
      "text/plain": [
       "tensor([[0.4504, 0.6700, 0.7721],\n",
       "        [0.9657, 0.9377, 0.3586],\n",
       "        [0.3139, 0.7581, 0.7080],\n",
       "        [0.1821, 0.2854, 0.4782],\n",
       "        [0.8694, 0.7459, 0.2605]])"
      ]
     },
     "execution_count": 31,
     "metadata": {},
     "output_type": "execute_result"
    }
   ],
   "source": [
    "y = torch.rand(5,3)\n",
    "y"
   ]
  },
  {
   "cell_type": "code",
   "execution_count": 34,
   "metadata": {},
   "outputs": [
    {
     "data": {
      "text/plain": [
       "tensor([[1.4504, 1.6700, 1.7721],\n",
       "        [1.9657, 1.9377, 1.3586],\n",
       "        [1.3139, 1.7581, 1.7080],\n",
       "        [1.1821, 1.2854, 1.4782],\n",
       "        [1.8694, 1.7459, 1.2605]])"
      ]
     },
     "execution_count": 34,
     "metadata": {},
     "output_type": "execute_result"
    }
   ],
   "source": [
    "z = x + y\n",
    "z"
   ]
  },
  {
   "cell_type": "code",
   "execution_count": 36,
   "metadata": {},
   "outputs": [
    {
     "data": {
      "text/plain": [
       "tensor([[1.4504, 1.6700, 1.7721],\n",
       "        [1.9657, 1.9377, 1.3586],\n",
       "        [1.3139, 1.7581, 1.7080],\n",
       "        [1.1821, 1.2854, 1.4782],\n",
       "        [1.8694, 1.7459, 1.2605]])"
      ]
     },
     "execution_count": 36,
     "metadata": {},
     "output_type": "execute_result"
    }
   ],
   "source": [
    "z = torch.add(x, y)\n",
    "z"
   ]
  },
  {
   "cell_type": "code",
   "execution_count": 38,
   "metadata": {},
   "outputs": [
    {
     "data": {
      "text/plain": [
       "tensor([[2.4504, 2.6700, 2.7721],\n",
       "        [2.9657, 2.9377, 2.3586],\n",
       "        [2.3139, 2.7581, 2.7080],\n",
       "        [2.1821, 2.2854, 2.4782],\n",
       "        [2.8694, 2.7459, 2.2605]])"
      ]
     },
     "execution_count": 38,
     "metadata": {},
     "output_type": "execute_result"
    }
   ],
   "source": [
    "y.add_(x)\n",
    "y"
   ]
  },
  {
   "cell_type": "code",
   "execution_count": 40,
   "metadata": {},
   "outputs": [
    {
     "data": {
      "text/plain": [
       "tensor([[0.6595, 0.0412, 0.8348],\n",
       "        [0.7511, 0.4735, 0.8702],\n",
       "        [0.8471, 0.6389, 0.3288],\n",
       "        [0.5760, 0.9777, 0.1038],\n",
       "        [0.8509, 0.0539, 0.4989]])"
      ]
     },
     "execution_count": 40,
     "metadata": {},
     "output_type": "execute_result"
    }
   ],
   "source": [
    "a = torch.rand(5,3)\n",
    "a"
   ]
  },
  {
   "cell_type": "code",
   "execution_count": 42,
   "metadata": {},
   "outputs": [
    {
     "data": {
      "text/plain": [
       "tensor([[0.4964, 0.0440, 0.0904],\n",
       "        [0.3790, 0.4620, 0.9912],\n",
       "        [0.4569, 0.8562, 0.4714],\n",
       "        [0.6402, 0.5783, 0.6148],\n",
       "        [0.3696, 0.7687, 0.7746]])"
      ]
     },
     "execution_count": 42,
     "metadata": {},
     "output_type": "execute_result"
    }
   ],
   "source": [
    "b = torch.rand(5,3)\n",
    "b"
   ]
  },
  {
   "cell_type": "code",
   "execution_count": 44,
   "metadata": {},
   "outputs": [
    {
     "data": {
      "text/plain": [
       "tensor([[1.1559, 0.0852, 0.9252],\n",
       "        [1.1301, 0.9355, 1.8614],\n",
       "        [1.3040, 1.4951, 0.8002],\n",
       "        [1.2162, 1.5560, 0.7186],\n",
       "        [1.2205, 0.8226, 1.2736]])"
      ]
     },
     "execution_count": 44,
     "metadata": {},
     "output_type": "execute_result"
    }
   ],
   "source": [
    "c= a + b\n",
    "c"
   ]
  },
  {
   "cell_type": "code",
   "execution_count": 47,
   "metadata": {},
   "outputs": [
    {
     "data": {
      "text/plain": [
       "tensor([[1.1559, 0.0852, 0.9252],\n",
       "        [1.1301, 0.9355, 1.8614],\n",
       "        [1.3040, 1.4951, 0.8002],\n",
       "        [1.2162, 1.5560, 0.7186],\n",
       "        [1.2205, 0.8226, 1.2736]])"
      ]
     },
     "execution_count": 47,
     "metadata": {},
     "output_type": "execute_result"
    }
   ],
   "source": [
    "c1 = torch.empty(5,3)\n",
    "torch.add(a, b, out=c1)\n",
    "c1"
   ]
  },
  {
   "cell_type": "code",
   "execution_count": 49,
   "metadata": {},
   "outputs": [
    {
     "data": {
      "text/plain": [
       "tensor([[0.7650, 0.1725, 0.7977, 0.7383],\n",
       "        [0.4453, 0.1572, 0.3330, 0.8084],\n",
       "        [0.9180, 0.9416, 0.8047, 0.7858],\n",
       "        [0.8599, 0.3892, 0.7368, 0.3644]])"
      ]
     },
     "execution_count": 49,
     "metadata": {},
     "output_type": "execute_result"
    }
   ],
   "source": [
    "x = torch.rand(4,4)\n",
    "x"
   ]
  },
  {
   "cell_type": "code",
   "execution_count": 54,
   "metadata": {},
   "outputs": [
    {
     "data": {
      "text/plain": [
       "torch.Size([16])"
      ]
     },
     "execution_count": 54,
     "metadata": {},
     "output_type": "execute_result"
    }
   ],
   "source": [
    "y=x.view(16)\n",
    "y\n",
    "y.shape"
   ]
  },
  {
   "cell_type": "code",
   "execution_count": 56,
   "metadata": {},
   "outputs": [
    {
     "data": {
      "text/plain": [
       "tensor([[0.7650, 0.1725, 0.7977, 0.7383, 0.4453, 0.1572, 0.3330, 0.8084],\n",
       "        [0.9180, 0.9416, 0.8047, 0.7858, 0.8599, 0.3892, 0.7368, 0.3644]])"
      ]
     },
     "execution_count": 56,
     "metadata": {},
     "output_type": "execute_result"
    }
   ],
   "source": [
    "y = x.view(-1,8)\n",
    "y"
   ]
  },
  {
   "cell_type": "code",
   "execution_count": 58,
   "metadata": {},
   "outputs": [
    {
     "data": {
      "text/plain": [
       "tensor([[0.7650, 0.1725, 0.7977, 0.7383],\n",
       "        [0.4453, 0.1572, 0.3330, 0.8084],\n",
       "        [0.9180, 0.9416, 0.8047, 0.7858],\n",
       "        [0.8599, 0.3892, 0.7368, 0.3644]])"
      ]
     },
     "execution_count": 58,
     "metadata": {},
     "output_type": "execute_result"
    }
   ],
   "source": [
    "x"
   ]
  },
  {
   "cell_type": "code",
   "execution_count": 61,
   "metadata": {},
   "outputs": [
    {
     "data": {
      "text/plain": [
       "array([[0.7650092 , 0.17250448, 0.79767835, 0.7382782 ],\n",
       "       [0.44525158, 0.15716732, 0.33301753, 0.808425  ],\n",
       "       [0.9179664 , 0.9415721 , 0.8047325 , 0.7858386 ],\n",
       "       [0.859873  , 0.3891738 , 0.73680747, 0.36438388]], dtype=float32)"
      ]
     },
     "execution_count": 61,
     "metadata": {},
     "output_type": "execute_result"
    }
   ],
   "source": [
    "y = x.numpy()\n",
    "y"
   ]
  },
  {
   "cell_type": "code",
   "execution_count": 63,
   "metadata": {},
   "outputs": [
    {
     "data": {
      "text/plain": [
       "0.7650092"
      ]
     },
     "execution_count": 63,
     "metadata": {},
     "output_type": "execute_result"
    }
   ],
   "source": [
    "y[0,0]"
   ]
  },
  {
   "cell_type": "code",
   "execution_count": 65,
   "metadata": {},
   "outputs": [],
   "source": [
    "import numpy as np"
   ]
  },
  {
   "cell_type": "code",
   "execution_count": 68,
   "metadata": {},
   "outputs": [
    {
     "data": {
      "text/plain": [
       "array([1., 1., 1.])"
      ]
     },
     "execution_count": 68,
     "metadata": {},
     "output_type": "execute_result"
    }
   ],
   "source": [
    "a = np.ones(3)\n",
    "a"
   ]
  },
  {
   "cell_type": "code",
   "execution_count": 70,
   "metadata": {},
   "outputs": [
    {
     "data": {
      "text/plain": [
       "tensor([1., 1., 1.], dtype=torch.float64)"
      ]
     },
     "execution_count": 70,
     "metadata": {},
     "output_type": "execute_result"
    }
   ],
   "source": [
    "b = torch.from_numpy(a)\n",
    "b"
   ]
  },
  {
   "cell_type": "code",
   "execution_count": 73,
   "metadata": {},
   "outputs": [
    {
     "data": {
      "text/plain": [
       "True"
      ]
     },
     "execution_count": 73,
     "metadata": {},
     "output_type": "execute_result"
    }
   ],
   "source": [
    "has_device = torch.cuda.is_available()\n",
    "has_device"
   ]
  },
  {
   "cell_type": "code",
   "execution_count": 79,
   "metadata": {},
   "outputs": [
    {
     "name": "stdout",
     "output_type": "stream",
     "text": [
      "tensor([[1.7650, 1.1725, 1.7977, 1.7383],\n",
      "        [1.4453, 1.1572, 1.3330, 1.8084],\n",
      "        [1.9180, 1.9416, 1.8047, 1.7858],\n",
      "        [1.8599, 1.3892, 1.7368, 1.3644]], device='cuda:0')\n"
     ]
    }
   ],
   "source": [
    "if has_device:\n",
    "    device = torch.device(\"cuda\")\n",
    "    y = torch.ones_like(x, device= device)\n",
    "    x = x.to(device)\n",
    "    z= x+y\n",
    "    print(z)\n",
    "    "
   ]
  },
  {
   "cell_type": "code",
   "execution_count": 85,
   "metadata": {},
   "outputs": [
    {
     "data": {
      "text/plain": [
       "False"
      ]
     },
     "execution_count": 85,
     "metadata": {},
     "output_type": "execute_result"
    }
   ],
   "source": [
    "torch.is_tensor(a)"
   ]
  },
  {
   "cell_type": "code",
   "execution_count": 101,
   "metadata": {},
   "outputs": [
    {
     "data": {
      "text/plain": [
       "torch.int32"
      ]
     },
     "execution_count": 101,
     "metadata": {},
     "output_type": "execute_result"
    }
   ],
   "source": [
    "torch.zeros(3, 3, dtype=torch.int).dtype"
   ]
  },
  {
   "cell_type": "code",
   "execution_count": 123,
   "metadata": {},
   "outputs": [
    {
     "data": {
      "text/plain": [
       "tensor([1, 2, 3], device='cuda:0', dtype=torch.int32)"
      ]
     },
     "execution_count": 123,
     "metadata": {},
     "output_type": "execute_result"
    }
   ],
   "source": [
    "# torch.as_tensor(data, dtype = None, device = None) --> tensor\n",
    "# Parametter:\n",
    "#      data (array_like): gia tri khoi tao cua tensor. Co the la mot list, mot tuple, mot array of numpy\n",
    "#      dtype (torch.dtype, tuy chon): kieu du lieu mong muon tra ve cua tensor. Mac dinh = None thi kieu du lieu se dc tham chieu theo kieu cua data khoi tao.\n",
    "#      device (torch.device, tuy chon): cpu hay gpu se dc dung de luu tru tensor tra ve. Mac dinh la = None thi device hien hanh dc su dung.\n",
    "\n",
    "\n",
    "a = np.array([1, 2, 3])\n",
    "t = torch.as_tensor(a, device= torch.device('cuda'))\n",
    "t"
   ]
  }
 ],
 "metadata": {
  "kernelspec": {
   "display_name": "Python 3",
   "language": "python",
   "name": "python3"
  },
  "language_info": {
   "codemirror_mode": {
    "name": "ipython",
    "version": 3
   },
   "file_extension": ".py",
   "mimetype": "text/x-python",
   "name": "python",
   "nbconvert_exporter": "python",
   "pygments_lexer": "ipython3",
   "version": "3.6.10"
  }
 },
 "nbformat": 4,
 "nbformat_minor": 4
}
