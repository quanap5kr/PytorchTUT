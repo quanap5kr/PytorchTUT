{
 "cells": [
  {
   "cell_type": "code",
   "execution_count": 1,
   "metadata": {},
   "outputs": [
    {
     "name": "stderr",
     "output_type": "stream",
     "text": [
      "Python 3.6.10 :: Anaconda, Inc.\n"
     ]
    }
   ],
   "source": [
    "# Only Run: Hot keyboarch: ctrl + Enter\n",
    "# Run and insert new cell: Hot keyboard: Alt+ Enter\n",
    "!python --version"
   ]
  },
  {
   "cell_type": "code",
   "execution_count": 2,
   "metadata": {},
   "outputs": [
    {
     "name": "stdout",
     "output_type": "stream",
     "text": [
      "Package            Version            \n",
      "------------------ -------------------\n",
      "attrs              19.3.0             \n",
      "backcall           0.1.0              \n",
      "bleach             3.1.5              \n",
      "certifi            2020.4.5.2         \n",
      "colorama           0.4.3              \n",
      "decorator          4.4.2              \n",
      "defusedxml         0.6.0              \n",
      "entrypoints        0.3                \n",
      "importlib-metadata 1.6.1              \n",
      "ipykernel          5.3.0              \n",
      "ipython            7.15.0             \n",
      "ipython-genutils   0.2.0              \n",
      "jedi               0.17.0             \n",
      "Jinja2             2.11.2             \n",
      "jsonschema         3.2.0              \n",
      "jupyter-client     6.1.3              \n",
      "jupyter-core       4.6.3              \n",
      "MarkupSafe         1.1.1              \n",
      "mistune            0.8.4              \n",
      "mkl-fft            1.0.15             \n",
      "mkl-random         1.1.1              \n",
      "mkl-service        2.3.0              \n",
      "nbconvert          5.6.1              \n",
      "nbformat           5.0.6              \n",
      "notebook           6.0.3              \n",
      "numpy              1.18.1             \n",
      "olefile            0.46               \n",
      "packaging          20.4               \n",
      "pandocfilters      1.4.2              \n",
      "parso              0.7.0              \n",
      "pickleshare        0.7.5              \n",
      "Pillow             7.1.2              \n",
      "pip                20.0.2             \n",
      "prometheus-client  0.8.0              \n",
      "prompt-toolkit     3.0.5              \n",
      "Pygments           2.6.1              \n",
      "pyparsing          2.4.7              \n",
      "pyrsistent         0.16.0             \n",
      "python-dateutil    2.8.1              \n",
      "pywin32            227                \n",
      "pywinpty           0.5.7              \n",
      "pyzmq              19.0.1             \n",
      "Send2Trash         1.5.0              \n",
      "setuptools         47.1.1.post20200604\n",
      "six                1.15.0             \n",
      "terminado          0.8.3              \n",
      "testpath           0.4.4              \n",
      "torch              1.5.0              \n",
      "torchvision        0.6.0              \n",
      "tornado            6.0.4              \n",
      "traitlets          4.3.3              \n",
      "wcwidth            0.2.4              \n",
      "webencodings       0.5.1              \n",
      "wheel              0.34.2             \n",
      "wincertstore       0.2                \n",
      "zipp               3.1.0              \n"
     ]
    }
   ],
   "source": [
    "!pip list"
   ]
  },
  {
   "cell_type": "code",
   "execution_count": 4,
   "metadata": {},
   "outputs": [],
   "source": [
    "import torch"
   ]
  }
 ],
 "metadata": {
  "kernelspec": {
   "display_name": "Python 3",
   "language": "python",
   "name": "python3"
  },
  "language_info": {
   "codemirror_mode": {
    "name": "ipython",
    "version": 3
   },
   "file_extension": ".py",
   "mimetype": "text/x-python",
   "name": "python",
   "nbconvert_exporter": "python",
   "pygments_lexer": "ipython3",
   "version": "3.6.10"
  }
 },
 "nbformat": 4,
 "nbformat_minor": 4
}
